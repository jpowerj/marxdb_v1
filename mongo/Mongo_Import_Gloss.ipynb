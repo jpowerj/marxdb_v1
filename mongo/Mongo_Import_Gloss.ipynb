{
 "cells": [
  {
   "cell_type": "code",
   "execution_count": 3,
   "metadata": {
    "pycharm": {
     "name": "#%%\n"
    }
   },
   "outputs": [],
   "source": [
    "import os\n",
    "\n",
    "import dotenv\n",
    "from pymongo import MongoClient\n",
    "import pandas as pd\n",
    "\n",
    "client = MongoClient()"
   ]
  },
  {
   "cell_type": "code",
   "execution_count": 4,
   "outputs": [],
   "source": [
    "# Now load the .csv and convert to the .json we need"
   ],
   "metadata": {
    "collapsed": false,
    "pycharm": {
     "name": "#%%\n"
    }
   }
  },
  {
   "cell_type": "code",
   "execution_count": 5,
   "outputs": [],
   "source": [
    "gloss_df = pd.read_csv(\"glossary.csv\")"
   ],
   "metadata": {
    "collapsed": false,
    "pycharm": {
     "name": "#%%\n"
    }
   }
  },
  {
   "cell_type": "code",
   "execution_count": 6,
   "outputs": [
    {
     "data": {
      "text/plain": "                          id full_name short_names   last_name    first_name  \\\n0                  _Gretchen       NaN         NaN         NaN      Gretchen   \n1                     Aachen       NaN         NaN      Aachen           NaN   \n2                  Abarbanel       NaN         NaN   Abarbanel           NaN   \n3          Abbott_Leonard D.       NaN         NaN      Abbott    Leonard D.   \n4     Abendroth_Heinrich von       NaN         NaN   Abendroth  Heinrich von   \n...                      ...       ...         ...         ...           ...   \n3584                Zöpfl_H.       NaN         NaN       Zöpfl            H.   \n3585                 Zukunft       NaN         NaN     Zukunft           NaN   \n3586                Zweiffel       NaN         NaN    Zweiffel           NaN   \n3587           Zweytinger_G.       NaN         NaN  Zweytinger            G.   \n3588              Бутурлин_д       NaN         NaN    Бутурлин             д   \n\n     gabriel_desc desc glossary_entry glossary_desc mega_digital_url  ...  \\\n0             NaN  NaN            NaN           NaN              NaN  ...   \n1             NaN  NaN            NaN           NaN              NaN  ...   \n2             NaN  NaN            NaN           NaN              NaN  ...   \n3             NaN  NaN            NaN           NaN              NaN  ...   \n4             NaN  NaN            NaN           NaN              NaN  ...   \n...           ...  ...            ...           ...              ...  ...   \n3584          NaN  NaN            NaN           NaN              NaN  ...   \n3585          NaN  NaN            NaN           NaN              NaN  ...   \n3586          NaN  NaN            NaN           NaN              NaN  ...   \n3587          NaN  NaN            NaN           NaN              NaN  ...   \n3588          NaN  NaN            NaN           NaN              NaN  ...   \n\n     num_letters_from_m Geldsystem Associates Proudhon_Cahiers Num_About  \\\n0                   NaN        NaN        NaN              NaN         0   \n1                   NaN        NaN        NaN              NaN         0   \n2                   NaN        NaN        NaN              NaN         0   \n3                   NaN        NaN        NaN              NaN         0   \n4                   NaN        NaN        NaN              NaN         0   \n...                 ...        ...        ...              ...       ...   \n3584                NaN        NaN        NaN              NaN         0   \n3585                NaN        NaN        NaN              NaN         3   \n3586                NaN        NaN        NaN              NaN         0   \n3587                NaN        NaN        NaN              NaN         0   \n3588                NaN        NaN        NaN              NaN         0   \n\n     Imported table N0_Nietzsche_Books_Read N0_Nietzsche_Library  \\\n0               NaN                     NaN                  NaN   \n1               NaN                     NaN                  NaN   \n2               NaN                     NaN                  NaN   \n3               NaN                     NaN                  NaN   \n4               NaN                     NaN                  NaN   \n...             ...                     ...                  ...   \n3584            NaN                     NaN                  NaN   \n3585            NaN                     NaN                  NaN   \n3586            NaN                     NaN                  NaN   \n3587            NaN                     NaN                  NaN   \n3588            NaN                     NaN                  NaN   \n\n     B0_Bastiat_Correspondence JSM00_Letters  \n0                          NaN           NaN  \n1                          NaN           NaN  \n2                          NaN           NaN  \n3                          NaN           NaN  \n4                          NaN           NaN  \n...                        ...           ...  \n3584                       NaN           NaN  \n3585                       NaN           NaN  \n3586                       NaN           NaN  \n3587                       NaN           NaN  \n3588                       NaN           NaN  \n\n[3589 rows x 65 columns]",
      "text/html": "<div>\n<style scoped>\n    .dataframe tbody tr th:only-of-type {\n        vertical-align: middle;\n    }\n\n    .dataframe tbody tr th {\n        vertical-align: top;\n    }\n\n    .dataframe thead th {\n        text-align: right;\n    }\n</style>\n<table border=\"1\" class=\"dataframe\">\n  <thead>\n    <tr style=\"text-align: right;\">\n      <th></th>\n      <th>id</th>\n      <th>full_name</th>\n      <th>short_names</th>\n      <th>last_name</th>\n      <th>first_name</th>\n      <th>gabriel_desc</th>\n      <th>desc</th>\n      <th>glossary_entry</th>\n      <th>glossary_desc</th>\n      <th>mega_digital_url</th>\n      <th>...</th>\n      <th>num_letters_from_m</th>\n      <th>Geldsystem</th>\n      <th>Associates</th>\n      <th>Proudhon_Cahiers</th>\n      <th>Num_About</th>\n      <th>Imported table</th>\n      <th>N0_Nietzsche_Books_Read</th>\n      <th>N0_Nietzsche_Library</th>\n      <th>B0_Bastiat_Correspondence</th>\n      <th>JSM00_Letters</th>\n    </tr>\n  </thead>\n  <tbody>\n    <tr>\n      <th>0</th>\n      <td>_Gretchen</td>\n      <td>NaN</td>\n      <td>NaN</td>\n      <td>NaN</td>\n      <td>Gretchen</td>\n      <td>NaN</td>\n      <td>NaN</td>\n      <td>NaN</td>\n      <td>NaN</td>\n      <td>NaN</td>\n      <td>...</td>\n      <td>NaN</td>\n      <td>NaN</td>\n      <td>NaN</td>\n      <td>NaN</td>\n      <td>0</td>\n      <td>NaN</td>\n      <td>NaN</td>\n      <td>NaN</td>\n      <td>NaN</td>\n      <td>NaN</td>\n    </tr>\n    <tr>\n      <th>1</th>\n      <td>Aachen</td>\n      <td>NaN</td>\n      <td>NaN</td>\n      <td>Aachen</td>\n      <td>NaN</td>\n      <td>NaN</td>\n      <td>NaN</td>\n      <td>NaN</td>\n      <td>NaN</td>\n      <td>NaN</td>\n      <td>...</td>\n      <td>NaN</td>\n      <td>NaN</td>\n      <td>NaN</td>\n      <td>NaN</td>\n      <td>0</td>\n      <td>NaN</td>\n      <td>NaN</td>\n      <td>NaN</td>\n      <td>NaN</td>\n      <td>NaN</td>\n    </tr>\n    <tr>\n      <th>2</th>\n      <td>Abarbanel</td>\n      <td>NaN</td>\n      <td>NaN</td>\n      <td>Abarbanel</td>\n      <td>NaN</td>\n      <td>NaN</td>\n      <td>NaN</td>\n      <td>NaN</td>\n      <td>NaN</td>\n      <td>NaN</td>\n      <td>...</td>\n      <td>NaN</td>\n      <td>NaN</td>\n      <td>NaN</td>\n      <td>NaN</td>\n      <td>0</td>\n      <td>NaN</td>\n      <td>NaN</td>\n      <td>NaN</td>\n      <td>NaN</td>\n      <td>NaN</td>\n    </tr>\n    <tr>\n      <th>3</th>\n      <td>Abbott_Leonard D.</td>\n      <td>NaN</td>\n      <td>NaN</td>\n      <td>Abbott</td>\n      <td>Leonard D.</td>\n      <td>NaN</td>\n      <td>NaN</td>\n      <td>NaN</td>\n      <td>NaN</td>\n      <td>NaN</td>\n      <td>...</td>\n      <td>NaN</td>\n      <td>NaN</td>\n      <td>NaN</td>\n      <td>NaN</td>\n      <td>0</td>\n      <td>NaN</td>\n      <td>NaN</td>\n      <td>NaN</td>\n      <td>NaN</td>\n      <td>NaN</td>\n    </tr>\n    <tr>\n      <th>4</th>\n      <td>Abendroth_Heinrich von</td>\n      <td>NaN</td>\n      <td>NaN</td>\n      <td>Abendroth</td>\n      <td>Heinrich von</td>\n      <td>NaN</td>\n      <td>NaN</td>\n      <td>NaN</td>\n      <td>NaN</td>\n      <td>NaN</td>\n      <td>...</td>\n      <td>NaN</td>\n      <td>NaN</td>\n      <td>NaN</td>\n      <td>NaN</td>\n      <td>0</td>\n      <td>NaN</td>\n      <td>NaN</td>\n      <td>NaN</td>\n      <td>NaN</td>\n      <td>NaN</td>\n    </tr>\n    <tr>\n      <th>...</th>\n      <td>...</td>\n      <td>...</td>\n      <td>...</td>\n      <td>...</td>\n      <td>...</td>\n      <td>...</td>\n      <td>...</td>\n      <td>...</td>\n      <td>...</td>\n      <td>...</td>\n      <td>...</td>\n      <td>...</td>\n      <td>...</td>\n      <td>...</td>\n      <td>...</td>\n      <td>...</td>\n      <td>...</td>\n      <td>...</td>\n      <td>...</td>\n      <td>...</td>\n      <td>...</td>\n    </tr>\n    <tr>\n      <th>3584</th>\n      <td>Zöpfl_H.</td>\n      <td>NaN</td>\n      <td>NaN</td>\n      <td>Zöpfl</td>\n      <td>H.</td>\n      <td>NaN</td>\n      <td>NaN</td>\n      <td>NaN</td>\n      <td>NaN</td>\n      <td>NaN</td>\n      <td>...</td>\n      <td>NaN</td>\n      <td>NaN</td>\n      <td>NaN</td>\n      <td>NaN</td>\n      <td>0</td>\n      <td>NaN</td>\n      <td>NaN</td>\n      <td>NaN</td>\n      <td>NaN</td>\n      <td>NaN</td>\n    </tr>\n    <tr>\n      <th>3585</th>\n      <td>Zukunft</td>\n      <td>NaN</td>\n      <td>NaN</td>\n      <td>Zukunft</td>\n      <td>NaN</td>\n      <td>NaN</td>\n      <td>NaN</td>\n      <td>NaN</td>\n      <td>NaN</td>\n      <td>NaN</td>\n      <td>...</td>\n      <td>NaN</td>\n      <td>NaN</td>\n      <td>NaN</td>\n      <td>NaN</td>\n      <td>3</td>\n      <td>NaN</td>\n      <td>NaN</td>\n      <td>NaN</td>\n      <td>NaN</td>\n      <td>NaN</td>\n    </tr>\n    <tr>\n      <th>3586</th>\n      <td>Zweiffel</td>\n      <td>NaN</td>\n      <td>NaN</td>\n      <td>Zweiffel</td>\n      <td>NaN</td>\n      <td>NaN</td>\n      <td>NaN</td>\n      <td>NaN</td>\n      <td>NaN</td>\n      <td>NaN</td>\n      <td>...</td>\n      <td>NaN</td>\n      <td>NaN</td>\n      <td>NaN</td>\n      <td>NaN</td>\n      <td>0</td>\n      <td>NaN</td>\n      <td>NaN</td>\n      <td>NaN</td>\n      <td>NaN</td>\n      <td>NaN</td>\n    </tr>\n    <tr>\n      <th>3587</th>\n      <td>Zweytinger_G.</td>\n      <td>NaN</td>\n      <td>NaN</td>\n      <td>Zweytinger</td>\n      <td>G.</td>\n      <td>NaN</td>\n      <td>NaN</td>\n      <td>NaN</td>\n      <td>NaN</td>\n      <td>NaN</td>\n      <td>...</td>\n      <td>NaN</td>\n      <td>NaN</td>\n      <td>NaN</td>\n      <td>NaN</td>\n      <td>0</td>\n      <td>NaN</td>\n      <td>NaN</td>\n      <td>NaN</td>\n      <td>NaN</td>\n      <td>NaN</td>\n    </tr>\n    <tr>\n      <th>3588</th>\n      <td>Бутурлин_д</td>\n      <td>NaN</td>\n      <td>NaN</td>\n      <td>Бутурлин</td>\n      <td>д</td>\n      <td>NaN</td>\n      <td>NaN</td>\n      <td>NaN</td>\n      <td>NaN</td>\n      <td>NaN</td>\n      <td>...</td>\n      <td>NaN</td>\n      <td>NaN</td>\n      <td>NaN</td>\n      <td>NaN</td>\n      <td>0</td>\n      <td>NaN</td>\n      <td>NaN</td>\n      <td>NaN</td>\n      <td>NaN</td>\n      <td>NaN</td>\n    </tr>\n  </tbody>\n</table>\n<p>3589 rows × 65 columns</p>\n</div>"
     },
     "execution_count": 6,
     "metadata": {},
     "output_type": "execute_result"
    }
   ],
   "source": [
    "gloss_df"
   ],
   "metadata": {
    "collapsed": false,
    "pycharm": {
     "name": "#%%\n"
    }
   }
  },
  {
   "cell_type": "code",
   "execution_count": 7,
   "outputs": [],
   "source": [
    "gloss_json = gloss_df.to_json(orient=\"records\")"
   ],
   "metadata": {
    "collapsed": false,
    "pycharm": {
     "name": "#%%\n"
    }
   }
  },
  {
   "cell_type": "code",
   "execution_count": 9,
   "outputs": [
    {
     "data": {
      "text/plain": "'[{\"id\":\"_Gretchen\",\"full_name\":null,\"short_names\":null,\"last_name\":null,\"first_name\":\"Gretchen\",\"gabriel_desc\":null,\"desc\":null,\"glossary_entry\":null,\"glossary_desc\":null,\"mega_digital_url\":null,\"mega_digital_url2\":null,\"category\":\"Person\",\"birth\":null,\"death\":null,\"nationality_full\":null,\"nationality\":null,\"active_in\":null,\"born\":null,\"orgs\":null,\"link\":null,\"link2\":null,\"link2_note\":null,\"Chronicle_Interaction\":\"44_34_333\",\"num_interactions\":1,\"Chronicle_OCR 2\":null,\"Chronicle_About\":null,\"Not'"
     },
     "execution_count": 9,
     "metadata": {},
     "output_type": "execute_result"
    }
   ],
   "source": [
    "gloss_json[:500]"
   ],
   "metadata": {
    "collapsed": false,
    "pycharm": {
     "name": "#%%\n"
    }
   }
  },
  {
   "cell_type": "code",
   "execution_count": 10,
   "outputs": [],
   "source": [
    "with open(\"glossary.json\", 'w', encoding='utf-8') as outfile:\n",
    "    outfile.write(gloss_json)"
   ],
   "metadata": {
    "collapsed": false,
    "pycharm": {
     "name": "#%%\n"
    }
   }
  },
  {
   "cell_type": "code",
   "execution_count": null,
   "outputs": [],
   "source": [],
   "metadata": {
    "collapsed": false,
    "pycharm": {
     "name": "#%%\n"
    }
   }
  }
 ],
 "metadata": {
  "kernelspec": {
   "display_name": "Python 3.10.5 64-bit",
   "language": "python",
   "name": "python3"
  },
  "language_info": {
   "codemirror_mode": {
    "name": "ipython",
    "version": 3
   },
   "file_extension": ".py",
   "mimetype": "text/x-python",
   "name": "python",
   "nbconvert_exporter": "python",
   "pygments_lexer": "ipython3",
   "version": "3.10.5"
  },
  "orig_nbformat": 4,
  "vscode": {
   "interpreter": {
    "hash": "369f2c481f4da34e4445cda3fffd2e751bd1c4d706f27375911949ba6bb62e1c"
   }
  }
 },
 "nbformat": 4,
 "nbformat_minor": 2
}