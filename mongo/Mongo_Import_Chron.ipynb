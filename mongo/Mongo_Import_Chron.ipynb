{
 "cells": [
  {
   "cell_type": "code",
   "execution_count": 1,
   "metadata": {
    "pycharm": {
     "name": "#%%\n"
    }
   },
   "outputs": [],
   "source": [
    "import os\n",
    "\n",
    "import dotenv\n",
    "from pymongo import MongoClient\n",
    "import pandas as pd\n",
    "\n",
    "client = MongoClient()"
   ]
  },
  {
   "cell_type": "code",
   "execution_count": 2,
   "outputs": [],
   "source": [
    "# Now load the .csv and convert to the .json we need"
   ],
   "metadata": {
    "collapsed": false,
    "pycharm": {
     "name": "#%%\n"
    }
   }
  },
  {
   "cell_type": "code",
   "execution_count": 2,
   "outputs": [],
   "source": [
    "chron_df = pd.read_csv(\"glossary.csv\")"
   ],
   "metadata": {
    "collapsed": false,
    "pycharm": {
     "name": "#%%\n"
    }
   }
  },
  {
   "cell_type": "code",
   "execution_count": 4,
   "outputs": [
    {
     "data": {
      "text/plain": "        entry_id  year    id ME_Cyclopedia_id chron_section  \\\n0         18_1_1  1818     1             18:1           MAY   \n1         19_1_2  1819     2             19:1       OCTOBER   \n2         20_1_3  1820     3             20:1      NOVEMBER   \n3         21_1_4  1821     4             21:1       JANUARY   \n4         23_1_5  1823     5             23:1           MAY   \n...          ...   ...   ...              ...           ...   \n7440  95_37_6451  1895  6451            95:37        AUGUST   \n7441  95_37_6452  1895  6452            95:37        AUGUST   \n7442  95_37_6453  1895  6453            95:37        AUGUST   \n7443  95_37_6454  1895  6454            95:37        AUGUST   \n7444  95_37_6455  1895  6455            95:37        AUGUST   \n\n                     header  header_id start_approx month_start day_start  \\\n0             1. Birth (M).        1.0          NaN         May         5   \n1             1. Residence.        1.0          NaN         Oct         1   \n2             1. Birth (E).        1.0          NaN         Nov        28   \n3               1. Baptism.        1.0          NaN         Jan        18   \n4           1. Grandmother.        1.0          NaN         May        13   \n...                     ...        ...          ...         ...       ...   \n7440  37.    Engels’ Death.       37.0          NaN         Aug         4   \n7441  37.    Engels’ Death.       37.0          NaN         Aug         5   \n7442  37.    Engels’ Death.       37.0          NaN         Aug         6   \n7443  37.    Engels’ Death.       37.0          NaN         Aug        10   \n7444  37.    Engels’ Death.       37.0          NaN         Aug        27   \n\n      ... travel labeled manual_label not_in_chronicle  notes ME_Register  \\\n0     ...  False   False          NaN              NaN    NaN         NaN   \n1     ...  False   False          NaN              NaN    NaN         NaN   \n2     ...  False   False          NaN              NaN    NaN         NaN   \n3     ...  False   False          NaN              NaN    NaN         NaN   \n4     ...  False   False          NaN              NaN    NaN         NaN   \n...   ...    ...     ...          ...              ...    ...         ...   \n7440  ...  False   False          NaN              NaN    NaN         NaN   \n7441  ...  False   False          NaN              NaN    NaN         NaN   \n7442  ...  False   False          NaN              NaN    NaN         NaN   \n7443  ...  False   False          NaN              NaN    NaN         NaN   \n7444  ...  False   False          NaN              NaN    NaN         NaN   \n\n     Notebooks_Marx ME_Register_auto Entities 03_Register_auto  \n0               NaN              NaN      NaN              NaN  \n1               NaN              NaN      NaN              NaN  \n2               NaN              NaN      NaN              NaN  \n3               NaN              NaN      NaN              NaN  \n4               NaN              NaN      NaN              NaN  \n...             ...              ...      ...              ...  \n7440            NaN              NaN      NaN              NaN  \n7441            NaN              NaN      NaN              NaN  \n7442            NaN              NaN      NaN              NaN  \n7443            NaN              NaN      NaN              NaN  \n7444            NaN              NaN      NaN              NaN  \n\n[7445 rows x 44 columns]",
      "text/html": "<div>\n<style scoped>\n    .dataframe tbody tr th:only-of-type {\n        vertical-align: middle;\n    }\n\n    .dataframe tbody tr th {\n        vertical-align: top;\n    }\n\n    .dataframe thead th {\n        text-align: right;\n    }\n</style>\n<table border=\"1\" class=\"dataframe\">\n  <thead>\n    <tr style=\"text-align: right;\">\n      <th></th>\n      <th>entry_id</th>\n      <th>year</th>\n      <th>id</th>\n      <th>ME_Cyclopedia_id</th>\n      <th>chron_section</th>\n      <th>header</th>\n      <th>header_id</th>\n      <th>start_approx</th>\n      <th>month_start</th>\n      <th>day_start</th>\n      <th>...</th>\n      <th>travel</th>\n      <th>labeled</th>\n      <th>manual_label</th>\n      <th>not_in_chronicle</th>\n      <th>notes</th>\n      <th>ME_Register</th>\n      <th>Notebooks_Marx</th>\n      <th>ME_Register_auto</th>\n      <th>Entities</th>\n      <th>03_Register_auto</th>\n    </tr>\n  </thead>\n  <tbody>\n    <tr>\n      <th>0</th>\n      <td>18_1_1</td>\n      <td>1818</td>\n      <td>1</td>\n      <td>18:1</td>\n      <td>MAY</td>\n      <td>1. Birth (M).</td>\n      <td>1.0</td>\n      <td>NaN</td>\n      <td>May</td>\n      <td>5</td>\n      <td>...</td>\n      <td>False</td>\n      <td>False</td>\n      <td>NaN</td>\n      <td>NaN</td>\n      <td>NaN</td>\n      <td>NaN</td>\n      <td>NaN</td>\n      <td>NaN</td>\n      <td>NaN</td>\n      <td>NaN</td>\n    </tr>\n    <tr>\n      <th>1</th>\n      <td>19_1_2</td>\n      <td>1819</td>\n      <td>2</td>\n      <td>19:1</td>\n      <td>OCTOBER</td>\n      <td>1. Residence.</td>\n      <td>1.0</td>\n      <td>NaN</td>\n      <td>Oct</td>\n      <td>1</td>\n      <td>...</td>\n      <td>False</td>\n      <td>False</td>\n      <td>NaN</td>\n      <td>NaN</td>\n      <td>NaN</td>\n      <td>NaN</td>\n      <td>NaN</td>\n      <td>NaN</td>\n      <td>NaN</td>\n      <td>NaN</td>\n    </tr>\n    <tr>\n      <th>2</th>\n      <td>20_1_3</td>\n      <td>1820</td>\n      <td>3</td>\n      <td>20:1</td>\n      <td>NOVEMBER</td>\n      <td>1. Birth (E).</td>\n      <td>1.0</td>\n      <td>NaN</td>\n      <td>Nov</td>\n      <td>28</td>\n      <td>...</td>\n      <td>False</td>\n      <td>False</td>\n      <td>NaN</td>\n      <td>NaN</td>\n      <td>NaN</td>\n      <td>NaN</td>\n      <td>NaN</td>\n      <td>NaN</td>\n      <td>NaN</td>\n      <td>NaN</td>\n    </tr>\n    <tr>\n      <th>3</th>\n      <td>21_1_4</td>\n      <td>1821</td>\n      <td>4</td>\n      <td>21:1</td>\n      <td>JANUARY</td>\n      <td>1. Baptism.</td>\n      <td>1.0</td>\n      <td>NaN</td>\n      <td>Jan</td>\n      <td>18</td>\n      <td>...</td>\n      <td>False</td>\n      <td>False</td>\n      <td>NaN</td>\n      <td>NaN</td>\n      <td>NaN</td>\n      <td>NaN</td>\n      <td>NaN</td>\n      <td>NaN</td>\n      <td>NaN</td>\n      <td>NaN</td>\n    </tr>\n    <tr>\n      <th>4</th>\n      <td>23_1_5</td>\n      <td>1823</td>\n      <td>5</td>\n      <td>23:1</td>\n      <td>MAY</td>\n      <td>1. Grandmother.</td>\n      <td>1.0</td>\n      <td>NaN</td>\n      <td>May</td>\n      <td>13</td>\n      <td>...</td>\n      <td>False</td>\n      <td>False</td>\n      <td>NaN</td>\n      <td>NaN</td>\n      <td>NaN</td>\n      <td>NaN</td>\n      <td>NaN</td>\n      <td>NaN</td>\n      <td>NaN</td>\n      <td>NaN</td>\n    </tr>\n    <tr>\n      <th>...</th>\n      <td>...</td>\n      <td>...</td>\n      <td>...</td>\n      <td>...</td>\n      <td>...</td>\n      <td>...</td>\n      <td>...</td>\n      <td>...</td>\n      <td>...</td>\n      <td>...</td>\n      <td>...</td>\n      <td>...</td>\n      <td>...</td>\n      <td>...</td>\n      <td>...</td>\n      <td>...</td>\n      <td>...</td>\n      <td>...</td>\n      <td>...</td>\n      <td>...</td>\n      <td>...</td>\n    </tr>\n    <tr>\n      <th>7440</th>\n      <td>95_37_6451</td>\n      <td>1895</td>\n      <td>6451</td>\n      <td>95:37</td>\n      <td>AUGUST</td>\n      <td>37.    Engels’ Death.</td>\n      <td>37.0</td>\n      <td>NaN</td>\n      <td>Aug</td>\n      <td>4</td>\n      <td>...</td>\n      <td>False</td>\n      <td>False</td>\n      <td>NaN</td>\n      <td>NaN</td>\n      <td>NaN</td>\n      <td>NaN</td>\n      <td>NaN</td>\n      <td>NaN</td>\n      <td>NaN</td>\n      <td>NaN</td>\n    </tr>\n    <tr>\n      <th>7441</th>\n      <td>95_37_6452</td>\n      <td>1895</td>\n      <td>6452</td>\n      <td>95:37</td>\n      <td>AUGUST</td>\n      <td>37.    Engels’ Death.</td>\n      <td>37.0</td>\n      <td>NaN</td>\n      <td>Aug</td>\n      <td>5</td>\n      <td>...</td>\n      <td>False</td>\n      <td>False</td>\n      <td>NaN</td>\n      <td>NaN</td>\n      <td>NaN</td>\n      <td>NaN</td>\n      <td>NaN</td>\n      <td>NaN</td>\n      <td>NaN</td>\n      <td>NaN</td>\n    </tr>\n    <tr>\n      <th>7442</th>\n      <td>95_37_6453</td>\n      <td>1895</td>\n      <td>6453</td>\n      <td>95:37</td>\n      <td>AUGUST</td>\n      <td>37.    Engels’ Death.</td>\n      <td>37.0</td>\n      <td>NaN</td>\n      <td>Aug</td>\n      <td>6</td>\n      <td>...</td>\n      <td>False</td>\n      <td>False</td>\n      <td>NaN</td>\n      <td>NaN</td>\n      <td>NaN</td>\n      <td>NaN</td>\n      <td>NaN</td>\n      <td>NaN</td>\n      <td>NaN</td>\n      <td>NaN</td>\n    </tr>\n    <tr>\n      <th>7443</th>\n      <td>95_37_6454</td>\n      <td>1895</td>\n      <td>6454</td>\n      <td>95:37</td>\n      <td>AUGUST</td>\n      <td>37.    Engels’ Death.</td>\n      <td>37.0</td>\n      <td>NaN</td>\n      <td>Aug</td>\n      <td>10</td>\n      <td>...</td>\n      <td>False</td>\n      <td>False</td>\n      <td>NaN</td>\n      <td>NaN</td>\n      <td>NaN</td>\n      <td>NaN</td>\n      <td>NaN</td>\n      <td>NaN</td>\n      <td>NaN</td>\n      <td>NaN</td>\n    </tr>\n    <tr>\n      <th>7444</th>\n      <td>95_37_6455</td>\n      <td>1895</td>\n      <td>6455</td>\n      <td>95:37</td>\n      <td>AUGUST</td>\n      <td>37.    Engels’ Death.</td>\n      <td>37.0</td>\n      <td>NaN</td>\n      <td>Aug</td>\n      <td>27</td>\n      <td>...</td>\n      <td>False</td>\n      <td>False</td>\n      <td>NaN</td>\n      <td>NaN</td>\n      <td>NaN</td>\n      <td>NaN</td>\n      <td>NaN</td>\n      <td>NaN</td>\n      <td>NaN</td>\n      <td>NaN</td>\n    </tr>\n  </tbody>\n</table>\n<p>7445 rows × 44 columns</p>\n</div>"
     },
     "execution_count": 4,
     "metadata": {},
     "output_type": "execute_result"
    }
   ],
   "source": [
    "chron_df"
   ],
   "metadata": {
    "collapsed": false,
    "pycharm": {
     "name": "#%%\n"
    }
   }
  },
  {
   "cell_type": "code",
   "execution_count": 11,
   "outputs": [],
   "source": [
    "chron_json = chron_df.to_json(orient=\"records\")"
   ],
   "metadata": {
    "collapsed": false,
    "pycharm": {
     "name": "#%%\n"
    }
   }
  },
  {
   "cell_type": "code",
   "execution_count": 12,
   "outputs": [
    {
     "data": {
      "text/plain": "'[{\"entry_id\":\"18_1_1\",\"year\":1818,\"id\":1,\"ME_Cyclopedia_id\":\"18:1\",\"chron_section\":\"MAY\",\"header\":\"1. Birth (M).\",\"header_id\":1.0,\"start_approx\":null,\"month_start\":\"May\",\"day_start\":\"5\",\"end_approx\":null,\"month_end\":null,\"day_end\":null,\"text\":\"Marx is born at 2 a.m. in Trier, at Br\\\\u00fcckergasse 664 (now Br\\\\u00fcckenstrasse 10), into which the family had moved only days before, on May 1.\",\"len\":137,\"M\":\"checked\",\"E\":null,\"category\":\"Birth\",\"interaction_with\":null,\"meeting_of\":null,\"about\":null,'"
     },
     "execution_count": 12,
     "metadata": {},
     "output_type": "execute_result"
    }
   ],
   "source": [
    "chron_json[:500]"
   ],
   "metadata": {
    "collapsed": false,
    "pycharm": {
     "name": "#%%\n"
    }
   }
  },
  {
   "cell_type": "code",
   "execution_count": 13,
   "outputs": [],
   "source": [
    "with open(\"chronicle_ocr.json\", 'w', encoding='utf-8') as outfile:\n",
    "    outfile.write(chron_json)"
   ],
   "metadata": {
    "collapsed": false,
    "pycharm": {
     "name": "#%%\n"
    }
   }
  },
  {
   "cell_type": "code",
   "execution_count": null,
   "outputs": [],
   "source": [],
   "metadata": {
    "collapsed": false,
    "pycharm": {
     "name": "#%%\n"
    }
   }
  }
 ],
 "metadata": {
  "kernelspec": {
   "display_name": "Python 3.10.5 64-bit",
   "language": "python",
   "name": "python3"
  },
  "language_info": {
   "codemirror_mode": {
    "name": "ipython",
    "version": 3
   },
   "file_extension": ".py",
   "mimetype": "text/x-python",
   "name": "python",
   "nbconvert_exporter": "python",
   "pygments_lexer": "ipython3",
   "version": "3.10.5"
  },
  "orig_nbformat": 4,
  "vscode": {
   "interpreter": {
    "hash": "369f2c481f4da34e4445cda3fffd2e751bd1c4d706f27375911949ba6bb62e1c"
   }
  }
 },
 "nbformat": 4,
 "nbformat_minor": 2
}